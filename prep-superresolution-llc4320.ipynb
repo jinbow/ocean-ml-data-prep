{
 "cells": [
  {
   "cell_type": "markdown",
   "metadata": {},
   "source": [
    "# Super-Resolution Sea Surface Salinity (SSS) Data Description\n",
    "\n",
    "This notebook provides an overview and tools for working with high-resolution sea surface salinity (SSS) data from a 1/48-degree MITgcm simulation. The data is stored in a compact \"shrunk\" format and can be restored to full 2D fields using a mask and utility functions.\n",
    "\n",
    "## Objectives\n",
    "- Load and process global SSS data.\n",
    "- Visualize salinity fields for the eastern and western hemispheres.\n",
    "- Document the dataset’s history and structure.\n",
    "\n",
    "## Prerequisites\n",
    "- Python packages: `earthaccess`, `matplotlib`, `xarray`, `requests`, `numpy`, `scipy`\n",
    "- Access to the data directory: `/home/jovyan/shared-public/swot_shared/super_resolution/SSS/`"
   ]
  },
  {
   "cell_type": "markdown",
   "metadata": {},
   "source": [
    "## History\n",
    "\n",
    "- **06/29/2024**:\n",
    "  - Uploaded SSS data description to `/home/jovyan/shared-public/swot_shared/super_resolution/SSS/`.\n",
    "  - Added `utils.py` with the `mds2d` function for loading and mapping data."
   ]
  },
  {
   "cell_type": "code",
   "execution_count": null,
   "metadata": {},
   "outputs": [],
   "source": [
    "import earthaccess\n",
    "import matplotlib.pyplot as plt\n",
    "import xarray as xr\n",
    "import requests\n",
    "import numpy as np\n",
    "import utils\n",
    "from scipy import signal\n",
    "from pathlib import Path\n",
    "\n",
    "# Define base data path\n",
    "DATA_PATH = Path('/home/jovyan/shared-public/swot_shared/super_resolution/SSS/')\n",
    "\n",
    "# Check if data path exists\n",
    "if not DATA_PATH.exists():\n",
    "    raise FileNotFoundError(f'Data directory not found at {DATA_PATH}. Please verify the path.')"
   ]
  },
  {
   "cell_type": "markdown",
   "metadata": {},
   "source": [
    "## Global SSS Data - Added 06/29/2024\n",
    "\n",
    "### Description\n",
    "- **Location**: `/home/jovyan/shared-public/swot_shared/super_resolution/SSS/`\n",
    "- **Resolution**: 1/48-degree (~2 km), full grid 12960 x 8640\n",
    "- **Format**: Binary (big-endian float32, `>f4`)\n",
    "- **Details**: \n",
    "  - Data is \"shrunk\" by removing zero values over continents to save space.\n",
    "  - Use the mask file `hFacC_k0.data` (`hfacc != 0` for wet cells) to restore the full grid.\n",
    "  - The `mds2d` function in `utils.py` splits the data into eastern and western hemispheres.\n",
    "\n",
    "### Files\n",
    "- **Mask**: `hFacC_k0.data` - Grid mask for wet/dry cells.\n",
    "- **Sample Data**: `SSS.0001400112.shrunk` - Example SSS snapshot."
   ]
  },
  {
   "cell_type": "code",
   "execution_count": null,
   "metadata": {},
   "outputs": [],
   "source": [
    "# Load mask and SSS data\n",
    "try:\n",
    "    mask = np.fromfile(DATA_PATH / 'hFacC_k0.data', '>f4')\n",
    "    sss_shrunk = np.fromfile(DATA_PATH / 'SSS.0001400112.shrunk', '>f4')\n",
    "except FileNotFoundError as e:\n",
    "    print(f'Error: {e}')\n",
    "    raise\n",
    "\n",
    "# Restore full grid\n",
    "if len(sss_shrunk) != np.sum(mask != 0):\n",
    "    raise ValueError('Mismatch between shrunk data and mask wet cells.')\n",
    "mask[mask != 0] = sss_shrunk\n",
    "mask[mask == 0] = np.nan\n",
    "\n",
    "# Split into 2D fields\n",
    "sss_east, sss_west = utils.mds2d(mask)\n",
    "print(f'Eastern Hemisphere Shape: {sss_east.shape}')\n",
    "print(f'Western Hemisphere Shape: {sss_west.shape}')"
   ]
  },
  {
   "cell_type": "code",
   "execution_count": null,
   "metadata": {},
   "outputs": [],
   "source": [
    "# Visualize the data\n",
    "fig, (ax1, ax2) = plt.subplots(1, 2, figsize=(12, 5), dpi=100)\n",
    "\n",
    "im1 = ax1.imshow(sss_east, cmap='viridis', interpolation='nearest')\n",
    "ax1.set_title('Eastern Hemisphere SSS')\n",
    "ax1.set_xlabel('Longitude Index')\n",
    "ax1.set_ylabel('Latitude Index')\n",
    "plt.colorbar(im1, ax=ax1, label='Salinity (psu)')\n",
    "\n",
    "im2 = ax2.imshow(sss_west, cmap='viridis', interpolation='nearest')\n",
    "ax2.set_title('Western Hemisphere SSS')\n",
    "ax2.set_xlabel('Longitude Index')\n",
    "ax2.set_ylabel('Latitude Index')\n",
    "plt.colorbar(im2, ax=ax2, label='Salinity (psu)')\n",
    "\n",
    "plt.tight_layout()\n",
    "plt.show()"
   ]
  },
  {
   "cell_type": "markdown",
   "metadata": {},
   "source": [
    "## Spectral Analysis (Optional)\n",
    "\n",
    "This section demonstrates a basic spectral analysis of the SSS data, comparing the raw data to a smoothed version. It requires a `spectrum` function (not provided in the original notebook), so it’s commented out by default.\n",
    "\n",
    "### Notes\n",
    "- The smoothing uses a 10x10 grid box average (~20 km).\n",
    "- Define a `spectrum` function if you wish to use this section."
   ]
  },
  {
   "cell_type": "code",
   "execution_count": null,
   "metadata": {},
   "outputs": [],
   "source": [
    "# Define a simple spectrum function if not available\n",
    "def spectrum(data, fs=1):\n",
    "    f, p = signal.welch(data.flatten(), fs=fs, nperseg=256)\n",
    "    return f, p\n",
    "\n",
    "# Subset and smooth data\n",
    "sst_subset = sss_east[:280, :190]  # Using SSS as a proxy (rename if SST data exists)\n",
    "sst_smoothed = sst_subset.reshape(28, 10, 19, 10).mean(axis=1).mean(axis=-1)\n",
    "\n",
    "# Plot smoothed comparison\n",
    "fig, (ax1, ax2) = plt.subplots(1, 2, figsize=(10, 4))\n",
    "ax1.imshow(sst_subset, cmap='viridis')\n",
    "ax1.set_title('Raw SSS Subset')\n",
    "ax2.imshow(sst_smoothed, cmap='viridis')\n",
    "ax2.set_title('Smoothed SSS (20 km)')\n",
    "plt.tight_layout()\n",
    "plt.show()\n",
    "\n",
    "# Spectral analysis\n",
    "plt.figure(figsize=(8, 5))\n",
    "f_raw, p_raw = spectrum(sst_subset)\n",
    "plt.loglog(f_raw, p_raw, label='Raw SSS')\n",
    "f_smooth, p_smooth = spectrum(sst_smoothed, fs=20)\n",
    "plt.loglog(f_smooth, p_smooth, label='Smoothed SSS')\n",
    "plt.xlabel('Frequency')\n",
    "plt.ylabel('Power Spectral Density')\n",
    "plt.title('Spectral Analysis of SSS')\n",
    "plt.legend()\n",
    "plt.grid(True)\n",
    "plt.show()"
   ]
  }
 ],
 "metadata": {
  "kernelspec": {
   "display_name": "Python 3 (ipykernel)",
   "language": "python",
   "name": "python3"
  },
  "language_info": {
   "codemirror_mode": {
    "name": "ipython",
    "version": 3
   },
   "file_extension": ".py",
   "mimetype": "text/x-python",
   "name": "python",
   "nbconvert_exporter": "python",
   "pygments_lexer": "ipython3",
   "version": "3.11.8"
  }
 },
 "nbformat": 4,
 "nbformat_minor": 5
}
